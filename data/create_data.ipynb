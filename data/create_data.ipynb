{
 "cells": [
  {
   "cell_type": "code",
   "execution_count": 8,
   "metadata": {},
   "outputs": [
    {
     "data": {
      "text/plain": [
       "(\"DataFrame saved to 'sample_eda_dataframe_with_nulls.csv'\",\n",
       "    ID  Temperature         City       Date  Is_Raining  Visitors        Sales  \\\n",
       " 0   1    25.566145     New York 2022-01-01       False       671  3670.212311   \n",
       " 1   2    22.248041      Houston 2022-01-02        True       582  2363.195273   \n",
       " 2   3    26.837085  Los Angeles 2022-01-03       False       190  2689.214905   \n",
       " 3   4    31.877866      Houston 2022-01-04        True       971  4840.792264   \n",
       " 4   5    28.754938      Phoenix 2022-01-05       False       193  3316.866756   \n",
       " \n",
       "   Category  \n",
       " 0        D  \n",
       " 1        D  \n",
       " 2        D  \n",
       " 3        D  \n",
       " 4        B  )"
      ]
     },
     "execution_count": 8,
     "metadata": {},
     "output_type": "execute_result"
    }
   ],
   "source": [
    "import pandas as pd\n",
    "import numpy as np\n",
    "\n",
    "def create_dataframe(size=100, null_percentage=0.1):\n",
    "    # Ensure the null_percentage is between 0 and 1\n",
    "    if null_percentage < 0 or null_percentage > 1:\n",
    "        raise ValueError(\"null_percentage must be between 0 and 1.\")\n",
    "    \n",
    "    # Creating the DataFrame\n",
    "    data = {\n",
    "        'ID': range(1, size + 1),\n",
    "        'Temperature': np.random.uniform(20, 35, size),\n",
    "        'City': np.random.choice(['New York', 'Los Angeles', 'Chicago', 'Houston', 'Phoenix'], size=size),\n",
    "        'Date': pd.date_range(start='2022-01-01', periods=size, freq='D'),\n",
    "        'Is_Raining': np.random.choice([True, False], size=size),\n",
    "        'Visitors': np.random.randint(100, 1000, size=size),\n",
    "        'Sales': np.random.uniform(1000.5, 5000.5, size=size),\n",
    "        'Category': np.random.choice(['A', 'B', 'C', 'D'], size=size)\n",
    "    }\n",
    "\n",
    "    df = pd.DataFrame(data)\n",
    "    \n",
    "    # Introducing null values into the DataFrame\n",
    "    # Select columns to introduce null values into, excluding ID to maintain its integrity\n",
    "    columns_to_nullify = ['Temperature', 'City', 'Is_Raining', 'Visitors', 'Sales', 'Category']\n",
    "    \n",
    "    for column in columns_to_nullify:\n",
    "        # Determine the number of nulls based on the specified percentage\n",
    "        num_nulls = int(size * null_percentage)\n",
    "        # Randomly select indices to be nullified\n",
    "        null_indices = np.random.choice(df.index, num_nulls, replace=False)\n",
    "        df.loc[null_indices, column] = np.nan\n",
    "\n",
    "    # Save the DataFrame to a CSV file\n",
    "    file_path = 'sample_eda_dataframe_with_nulls.csv'\n",
    "    #df.to_csv(file_path, index=False,sep=\",\") #No se puede sincronizar\n",
    "    #df.to_csv(file_path, index=False,sep=\";\") #Los nombres de las columnas son los valores de la tabla, y las columnas están vacías.\n",
    "    #df.to_csv(file_path, index=True,sep=\",\") #Los nombres de las columnas son los valores de la tabla, y las columnas están vacías.\n",
    "    df.reset_index().to_csv(file_path, index=False,sep=\",\") #Los nombres de las columnas son los valores de la tabla, y las columnas están vacías.\n",
    "    \n",
    "\n",
    "    return f\"DataFrame saved to '{file_path}'\", df.head()\n",
    "\n",
    "# Example usage: Create a DataFrame of size 200 with 10% random null values\n",
    "create_dataframe(200, 0)\n"
   ]
  }
 ],
 "metadata": {
  "kernelspec": {
   "display_name": "testNLP",
   "language": "python",
   "name": "python3"
  },
  "language_info": {
   "codemirror_mode": {
    "name": "ipython",
    "version": 3
   },
   "file_extension": ".py",
   "mimetype": "text/x-python",
   "name": "python",
   "nbconvert_exporter": "python",
   "pygments_lexer": "ipython3",
   "version": "3.11.4"
  }
 },
 "nbformat": 4,
 "nbformat_minor": 2
}
